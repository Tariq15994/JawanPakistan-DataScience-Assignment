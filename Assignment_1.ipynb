{
 "cells": [
  {
   "cell_type": "markdown",
   "id": "60c73575",
   "metadata": {},
   "source": [
    "## Program 1"
   ]
  },
  {
   "cell_type": "code",
   "execution_count": 64,
   "id": "e2f92420",
   "metadata": {},
   "outputs": [
    {
     "name": "stdout",
     "output_type": "stream",
     "text": [
      "Twinkle, twinkle, little star, \n",
      "\tHow I wonder what you are! \n",
      "\t\tUp above the world so high, \n",
      "\t\tLike a diamond in the sky. \n",
      "Twinkle, twinkle, little star, \n",
      "\tHow I wonder what you are!\n"
     ]
    }
   ],
   "source": [
    "print(\"Twinkle, twinkle, little star, \\n\\tHow I wonder what you are! \\n\\t\\tUp above the world so high, \\n\\t\\tLike a diamond in the sky. \\nTwinkle, twinkle, little star, \\n\\tHow I wonder what you are!\")"
   ]
  },
  {
   "cell_type": "markdown",
   "id": "7c6c0cad",
   "metadata": {},
   "source": [
    "# Program 2"
   ]
  },
  {
   "cell_type": "code",
   "execution_count": 65,
   "id": "4522092b",
   "metadata": {},
   "outputs": [
    {
     "name": "stdout",
     "output_type": "stream",
     "text": [
      "Python version\n",
      "3.9.7 (default, Sep 16 2021, 13:09:58) \n",
      "[GCC 7.5.0]\n",
      "Version info.\n",
      "sys.version_info(major=3, minor=9, micro=7, releaselevel='final', serial=0)\n"
     ]
    }
   ],
   "source": [
    "import sys\n",
    "print(\"Python version\")\n",
    "print (sys.version)\n",
    "print(\"Version info.\")\n",
    "print (sys.version_info)"
   ]
  },
  {
   "cell_type": "markdown",
   "id": "526ee1e3",
   "metadata": {},
   "source": [
    "# Program 3"
   ]
  },
  {
   "cell_type": "code",
   "execution_count": 66,
   "id": "04637b0f",
   "metadata": {},
   "outputs": [
    {
     "name": "stdout",
     "output_type": "stream",
     "text": [
      "Current Date and Time is.... 2022-02-10 10:35:09.994226\n"
     ]
    }
   ],
   "source": [
    "from datetime import datetime\n",
    "Current_datetiem = datetime.now()\n",
    "print(\"Current Date and Time is....\", Current_datetiem);\n"
   ]
  },
  {
   "cell_type": "markdown",
   "id": "5e39375f",
   "metadata": {},
   "source": [
    "# Program 4"
   ]
  },
  {
   "cell_type": "code",
   "execution_count": 70,
   "id": "4d247c33",
   "metadata": {},
   "outputs": [
    {
     "name": "stdout",
     "output_type": "stream",
     "text": [
      "Enter the Radius of Circle...2\n",
      "Area of circle is  12.56\n"
     ]
    }
   ],
   "source": [
    "radius = int(input(\"Enter the Radius of Circle...\"))\n",
    "pi = 3.14\n",
    "area = pi*radius**2\n",
    "print(\"Area of circle is \", area)"
   ]
  },
  {
   "cell_type": "markdown",
   "id": "16412bdd",
   "metadata": {},
   "source": [
    "# Program 5"
   ]
  },
  {
   "cell_type": "code",
   "execution_count": 71,
   "id": "c17ac20e",
   "metadata": {},
   "outputs": [
    {
     "name": "stdout",
     "output_type": "stream",
     "text": [
      "Enter Your First NameTariq\n",
      "Enter Your Last NameNawaz\n",
      "qiraT   zawaN\n"
     ]
    }
   ],
   "source": [
    "first = input(\"Enter Your First Name\")\n",
    "last = input(\"Enter Your Last Name\")\n",
    "\n",
    "r_first = \"\"\n",
    "r_last = \"\"\n",
    "f_len = len(first)\n",
    "l_len = len(last)\n",
    "\n",
    "while f_len > 0:\n",
    "    r_first += first[ f_len - 1 ]\n",
    "    f_len = f_len - 1\n",
    "    \n",
    "\n",
    "while l_len > 0:\n",
    "    r_last += last[ l_len - 1 ]\n",
    "    l_len = l_len - 1\n",
    "print(r_first,\" \",r_last)   \n"
   ]
  },
  {
   "cell_type": "markdown",
   "id": "34c01f72",
   "metadata": {},
   "source": [
    "# Program 6"
   ]
  },
  {
   "cell_type": "code",
   "execution_count": 69,
   "id": "62e477e8",
   "metadata": {},
   "outputs": [
    {
     "name": "stdout",
     "output_type": "stream",
     "text": [
      "Enter Number 1....3\n",
      "Enter Number 2....3\n",
      "Addition of given number is  6\n"
     ]
    }
   ],
   "source": [
    "num1 = int(input(\"Enter Number 1....\"))\n",
    "num2 = int(input(\"Enter Number 2....\"))\n",
    "\n",
    "print(\"Addition of given number is \", num1 +num2)"
   ]
  },
  {
   "cell_type": "code",
   "execution_count": null,
   "id": "77f39d3f",
   "metadata": {},
   "outputs": [],
   "source": []
  }
 ],
 "metadata": {
  "kernelspec": {
   "display_name": "Python 3 (ipykernel)",
   "language": "python",
   "name": "python3"
  },
  "language_info": {
   "codemirror_mode": {
    "name": "ipython",
    "version": 3
   },
   "file_extension": ".py",
   "mimetype": "text/x-python",
   "name": "python",
   "nbconvert_exporter": "python",
   "pygments_lexer": "ipython3",
   "version": "3.9.7"
  }
 },
 "nbformat": 4,
 "nbformat_minor": 5
}
